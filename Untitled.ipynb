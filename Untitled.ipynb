{
 "cells": [
  {
   "cell_type": "markdown",
   "id": "755ecbbd",
   "metadata": {},
   "source": [
    "# Test notebook"
   ]
  },
  {
   "cell_type": "markdown",
   "id": "aad7fcc7",
   "metadata": {},
   "source": [
    "I'll help you create some markdown cells for a test notebook. I'll include a variety of markdown features to demonstrate different formatting capabilities.\n",
    "\n",
    "New 2"
   ]
  },
  {
   "cell_type": "markdown",
   "id": "50a2bba6",
   "metadata": {},
   "source": [
    "## Another Section"
   ]
  },
  {
   "cell_type": "code",
   "execution_count": 8,
   "id": "db9cc3c1",
   "metadata": {},
   "outputs": [
    {
     "data": {
      "text/markdown": [
       "## Sample Notebook for Testing\n",
       "This is a demonstration notebook showing various markdown features.\n",
       "\n",
       "## Key Features\n",
       "* Text formatting: **bold**, *italic*, ~~strikethrough~~\n",
       "* Lists (like this one!)\n",
       "* Code snippets\n",
       "* Tables\n"
      ],
      "text/plain": [
       "<IPython.core.display.Markdown object>"
      ]
     },
     "metadata": {},
     "output_type": "display_data"
    },
    {
     "data": {
      "text/markdown": [
       "### Code Examples\n",
       "Here's how we format inline code `print('Hello World')` and code blocks:"
      ],
      "text/plain": [
       "<IPython.core.display.Markdown object>"
      ]
     },
     "metadata": {},
     "output_type": "display_data"
    }
   ],
   "source": [
    "from IPython.display import display, Markdown\n",
    "\n",
    "# First cell - Title and Introduction\n",
    "display(Markdown(\"\"\"## Sample Notebook for Testing\n",
    "This is a demonstration notebook showing various markdown features.\n",
    "\n",
    "## Key Features\n",
    "* Text formatting: **bold**, *italic*, ~~strikethrough~~\n",
    "* Lists (like this one!)\n",
    "* Code snippets\n",
    "* Tables\n",
    "\"\"\"))\n",
    "\n",
    "# Second cell - Code Example\n",
    "display(Markdown(\"\"\"### Code Examples\n",
    "Here's how we format inline code `print('Hello World')` and code blocks:\"\"\"))"
   ]
  },
  {
   "cell_type": "markdown",
   "id": "d7abb1d9",
   "metadata": {},
   "source": [
    "## Final Section"
   ]
  },
  {
   "cell_type": "code",
   "execution_count": 7,
   "id": "162764fc",
   "metadata": {},
   "outputs": [
    {
     "data": {
      "text/plain": [
       "'Hello, hamel!'"
      ]
     },
     "execution_count": 7,
     "metadata": {},
     "output_type": "execute_result"
    }
   ],
   "source": [
    "def greet(name):\n",
    "    return f\"Hello, {name}!\"\n",
    "\n",
    "greet('hamel')"
   ]
  },
  {
   "cell_type": "markdown",
   "id": "5138314a",
   "metadata": {},
   "source": [
    "ok"
   ]
  },
  {
   "cell_type": "markdown",
   "id": "7531570b",
   "metadata": {},
   "source": [
    "Hi al"
   ]
  },
  {
   "cell_type": "code",
   "execution_count": null,
   "id": "bfa8a031",
   "metadata": {},
   "outputs": [],
   "source": []
  }
 ],
 "metadata": {
  "kernelspec": {
   "display_name": "Python 3 (ipykernel)",
   "language": "python",
   "name": "python3"
  },
  "language_info": {
   "codemirror_mode": {
    "name": "ipython",
    "version": 3
   },
   "file_extension": ".py",
   "mimetype": "text/x-python",
   "name": "python",
   "nbconvert_exporter": "python",
   "pygments_lexer": "ipython3",
   "version": "3.12.7"
  }
 },
 "nbformat": 4,
 "nbformat_minor": 5
}
